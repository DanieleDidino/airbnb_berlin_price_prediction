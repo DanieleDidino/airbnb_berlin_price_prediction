{
 "cells": [
  {
   "cell_type": "markdown",
   "metadata": {},
   "source": [
    "# Airbnb Berlin Price Prediction\n",
    "\n",
    "This is a Kaggle competition and can be found [here](https://www.kaggle.com/datasets/gauravduttakiit/airbnb-berlin-price-prediction)"
   ]
  },
  {
   "cell_type": "code",
   "execution_count": 97,
   "metadata": {},
   "outputs": [],
   "source": [
    "from pathlib import Path\n",
    "import numpy as np\n",
    "import pandas as pd\n",
    "import matplotlib.pyplot as plt\n",
    "import seaborn as sns\n",
    "from sklearn.base import BaseEstimator, TransformerMixin\n",
    "from sklearn.pipeline import Pipeline\n",
    "from sklearn.compose import ColumnTransformer\n",
    "from sklearn.impute import SimpleImputer\n",
    "from sklearn.preprocessing import StandardScaler, OneHotEncoder\n",
    "from sklearn.linear_model import LinearRegression\n",
    "from sklearn.ensemble import RandomForestRegressor\n",
    "from sklearn.model_selection import cross_val_score\n",
    "from sklearn.metrics import mean_squared_error\n",
    "from sklearn.model_selection import GridSearchCV\n",
    "from joblib import dump\n",
    "import pickle"
   ]
  },
  {
   "cell_type": "markdown",
   "metadata": {},
   "source": [
    "# Define functions"
   ]
  },
  {
   "cell_type": "code",
   "execution_count": 98,
   "metadata": {},
   "outputs": [],
   "source": [
    "def print_best_model_metrics(gs, X, y):\n",
    "    \"\"\"\"\n",
    "    gs: fitted GridSearch object\n",
    "    X: DataFrame with features\n",
    "    y: actual target\n",
    "    \"\"\"\n",
    "    print(f\"Best parameters:\\n{gs.best_params_}\")\n",
    "    print(f\"\\nBest score: {gs.best_score_:.3f}\")\n",
    "    print(f\"RMSE: {np.sqrt(-1*gs.best_score_):.3f}\")\n",
    "    score = gs.score(X, y)\n",
    "    print(f\"\\nneg_mean_squared_error on the full train set: {score:.3f}\")\n",
    "    print(f\"RMSE on the full train set: {np.sqrt(-1*score):.3f}\")\n",
    "    y_pred = gs.predict(X)\n",
    "    print(f\"\\nMean squared error = {mean_squared_error(y, y_pred, squared=False):.2f}\")\n",
    "    print(f\"Root Mean Square Percentage Error: {RMSPE(y, y_pred):.2f}\")"
   ]
  },
  {
   "cell_type": "markdown",
   "metadata": {},
   "source": [
    "# Load data"
   ]
  },
  {
   "cell_type": "code",
   "execution_count": 99,
   "metadata": {},
   "outputs": [
    {
     "name": "stdout",
     "output_type": "stream",
     "text": [
      "Shape: (12546, 39)\n"
     ]
    }
   ],
   "source": [
    "# Load the dataset\n",
    "def load_ds(path: Path, filename: str) -> pd.DataFrame:\n",
    "    \"\"\"Read the dataset csv file as a pandas dataframe.\"\"\"\n",
    "    return pd.read_csv(path / filename)\n",
    "\n",
    "# Load dataset\n",
    "dataset_path = Path().absolute() / \"data\"\n",
    "filename = \"X_y_train.csv\"\n",
    "X_y_train = load_ds(dataset_path, filename)\n",
    "\n",
    "print(f\"Shape: {X_y_train.shape}\")"
   ]
  },
  {
   "cell_type": "code",
   "execution_count": 100,
   "metadata": {},
   "outputs": [
    {
     "name": "stdout",
     "output_type": "stream",
     "text": [
      "<class 'pandas.core.frame.DataFrame'>\n",
      "RangeIndex: 12546 entries, 0 to 12545\n",
      "Data columns (total 39 columns):\n",
      " #   Column                 Non-Null Count  Dtype  \n",
      "---  ------                 --------------  -----  \n",
      " 0   Listing ID             12545 non-null  float64\n",
      " 1   Listing Name           12505 non-null  object \n",
      " 2   Host ID                12546 non-null  float64\n",
      " 3   Host Name              12529 non-null  object \n",
      " 4   Host Since             12530 non-null  object \n",
      " 5   Host Response Time     6917 non-null   object \n",
      " 6   Host Response Rate     6917 non-null   object \n",
      " 7   Is Superhost           12528 non-null  object \n",
      " 8   neighbourhood          12546 non-null  object \n",
      " 9   Neighborhood Group     12546 non-null  object \n",
      " 10  City                   12545 non-null  object \n",
      " 11  Postal Code            12369 non-null  object \n",
      " 12  Country Code           12546 non-null  object \n",
      " 13  Country                12546 non-null  object \n",
      " 14  Latitude               12546 non-null  float64\n",
      " 15  Longitude              12546 non-null  float64\n",
      " 16  Is Exact Location      12546 non-null  object \n",
      " 17  Property Type          12546 non-null  object \n",
      " 18  Room Type              12546 non-null  object \n",
      " 19  Accomodates            12546 non-null  object \n",
      " 20  Bathrooms              12536 non-null  object \n",
      " 21  Bedrooms               12544 non-null  object \n",
      " 22  Beds                   12541 non-null  object \n",
      " 23  Square Feet            249 non-null    float64\n",
      " 24  Guests Included        12546 non-null  object \n",
      " 25  Min Nights             12546 non-null  object \n",
      " 26  Reviews                12546 non-null  int64  \n",
      " 27  First Review           10411 non-null  object \n",
      " 28  Last Review            10410 non-null  object \n",
      " 29  Overall Rating         10209 non-null  float64\n",
      " 30  Accuracy Rating        10203 non-null  float64\n",
      " 31  Cleanliness Rating     10203 non-null  float64\n",
      " 32  Checkin Rating         10201 non-null  float64\n",
      " 33  Communication Rating   10203 non-null  float64\n",
      " 34  Location Rating        10202 non-null  float64\n",
      " 35  Value Rating           10201 non-null  float64\n",
      " 36  Instant Bookable       12546 non-null  object \n",
      " 37  Business Travel Ready  12546 non-null  object \n",
      " 38  Price                  12546 non-null  float64\n",
      "dtypes: float64(13), int64(1), object(25)\n",
      "memory usage: 3.7+ MB\n"
     ]
    }
   ],
   "source": [
    "X_y_train.info()"
   ]
  },
  {
   "cell_type": "code",
   "execution_count": 101,
   "metadata": {},
   "outputs": [],
   "source": [
    "y_train = X_y_train.loc[:, \"Price\"].copy()\n",
    "X_train = X_y_train.drop(columns=\"Price\")"
   ]
  },
  {
   "cell_type": "code",
   "execution_count": 102,
   "metadata": {},
   "outputs": [
    {
     "data": {
      "text/plain": [
       "Index(['Listing ID', 'Listing Name', 'Host ID', 'Host Name', 'Host Since',\n",
       "       'Host Response Time', 'Host Response Rate', 'Is Superhost',\n",
       "       'neighbourhood', 'Neighborhood Group', 'City', 'Postal Code',\n",
       "       'Country Code', 'Country', 'Latitude', 'Longitude', 'Is Exact Location',\n",
       "       'Property Type', 'Room Type', 'Accomodates', 'Bathrooms', 'Bedrooms',\n",
       "       'Beds', 'Square Feet', 'Guests Included', 'Min Nights', 'Reviews',\n",
       "       'First Review', 'Last Review', 'Overall Rating', 'Accuracy Rating',\n",
       "       'Cleanliness Rating', 'Checkin Rating', 'Communication Rating',\n",
       "       'Location Rating', 'Value Rating', 'Instant Bookable',\n",
       "       'Business Travel Ready'],\n",
       "      dtype='object')"
      ]
     },
     "execution_count": 102,
     "metadata": {},
     "output_type": "execute_result"
    }
   ],
   "source": [
    "X_train.columns"
   ]
  },
  {
   "cell_type": "markdown",
   "metadata": {},
   "source": [
    "# Preprocessing pipeline"
   ]
  },
  {
   "cell_type": "code",
   "execution_count": 103,
   "metadata": {},
   "outputs": [],
   "source": [
    "# TransformerMixin: add method \".fit_transform()\"\n",
    "# BaseEstimator: add methods \".get_params()\" and \".set_params()\"\n",
    "# We need 3 methods:\n",
    "# 1) .fit()\n",
    "# 2) .transform()\n",
    "# 3) .fit_transform() (provided by \"TransformerMixin\")\n",
    "class CombinedAttributesAdder(BaseEstimator, TransformerMixin):\n",
    "    # avoid \"*args\" or \"**kargs\" in \"__init__\"\n",
    "    def __init__(self):\n",
    "        pass\n",
    "\n",
    "    # fit is needed later for the pipilene\n",
    "    def fit(self, X, y=None):\n",
    "        return self\n",
    "    \n",
    "    def transform(self, X):\n",
    "\n",
    "        # Host Since\n",
    "        date2 = pd.to_datetime(X[\"Host Since\"], format=\"%Y-%m-%d\")\n",
    "        X[\"year\"] = date2.dt.year\n",
    "\n",
    "        # Is Superhost: ok\n",
    "\n",
    "        # Property Type\n",
    "        X.loc[X[\"Property Type\"] == \"*\", \"Property Type\"] = np.nan\n",
    "\n",
    "        # Room Type: ok\n",
    "\n",
    "        # Accomodates\n",
    "        X.loc[X.Accomodates == \"*\", \"Accomodates\"] = np.nan\n",
    "        X[\"Accomodates\"] = X.Accomodates.astype(\"float\")\n",
    "\n",
    "        # Bathrooms\n",
    "        X.loc[X.Bathrooms == \"*\", \"Bathrooms\"] = np.nan\n",
    "        X[\"Bathrooms\"] = X.Bathrooms.astype(\"float\")\n",
    "\n",
    "        # Bedrooms\n",
    "        X.loc[X.Bedrooms == \"*\", \"Bedrooms\"] = np.nan\n",
    "        X[\"Bedrooms\"] = X.Bedrooms.astype(\"float\")\n",
    "\n",
    "        # Beds\n",
    "        X.loc[X.Beds == \"*\", \"Beds\"] = np.nan\n",
    "        X[\"Beds\"] = X.Beds.astype(\"float\")\n",
    "\n",
    "        # Min Nights\n",
    "        X.loc[X[\"Min Nights\"] == \"*\", \"Min Nights\"] = np.nan\n",
    "        X[\"Min Nights\"] = X[\"Min Nights\"].astype(\"float\")\n",
    "\n",
    "        # Instant Bookable: ok\n",
    "\n",
    "        # Drop unused columns\n",
    "        cols_to_drop = [\n",
    "            \"Listing ID\", \"Listing Name\", \"Host ID\", \"Host Name\", \"Host Since\",\n",
    "            \"Host Response Time\", \"Host Response Rate\",\n",
    "            \"neighbourhood\", \"Neighborhood Group\", \"City\", \"Postal Code\",\n",
    "            \"Country Code\", \"Country\", \"Latitude\", \"Longitude\", \"Is Exact Location\",\n",
    "            \"Square Feet\", \"Guests Included\", \"Reviews\",\n",
    "            \"First Review\", \"Last Review\", \"Overall Rating\", \"Accuracy Rating\",\n",
    "            \"Cleanliness Rating\", \"Checkin Rating\", \"Communication Rating\",\n",
    "            \"Location Rating\", \"Value Rating\",\n",
    "            \"Business Travel Ready\"]\n",
    "        X_out = X.copy()\n",
    "        X_out.drop(columns=cols_to_drop, inplace=True)\n",
    "\n",
    "        return X_out # X\n",
    "     "
   ]
  },
  {
   "cell_type": "markdown",
   "metadata": {},
   "source": [
    "## FIN QUI"
   ]
  },
  {
   "cell_type": "code",
   "execution_count": 104,
   "metadata": {},
   "outputs": [
    {
     "name": "stdout",
     "output_type": "stream",
     "text": [
      "<class 'pandas.core.frame.DataFrame'>\n",
      "RangeIndex: 12546 entries, 0 to 12545\n",
      "Data columns (total 39 columns):\n",
      " #   Column                 Non-Null Count  Dtype  \n",
      "---  ------                 --------------  -----  \n",
      " 0   Listing ID             12545 non-null  float64\n",
      " 1   Listing Name           12505 non-null  object \n",
      " 2   Host ID                12546 non-null  float64\n",
      " 3   Host Name              12529 non-null  object \n",
      " 4   Host Since             12530 non-null  object \n",
      " 5   Host Response Time     6917 non-null   object \n",
      " 6   Host Response Rate     6917 non-null   object \n",
      " 7   Is Superhost           12528 non-null  object \n",
      " 8   neighbourhood          12546 non-null  object \n",
      " 9   Neighborhood Group     12546 non-null  object \n",
      " 10  City                   12545 non-null  object \n",
      " 11  Postal Code            12369 non-null  object \n",
      " 12  Country Code           12546 non-null  object \n",
      " 13  Country                12546 non-null  object \n",
      " 14  Latitude               12546 non-null  float64\n",
      " 15  Longitude              12546 non-null  float64\n",
      " 16  Is Exact Location      12546 non-null  object \n",
      " 17  Property Type          12485 non-null  object \n",
      " 18  Room Type              12546 non-null  object \n",
      " 19  Accomodates            12528 non-null  float64\n",
      " 20  Bathrooms              12526 non-null  float64\n",
      " 21  Bedrooms               12535 non-null  float64\n",
      " 22  Beds                   12534 non-null  float64\n",
      " 23  Square Feet            249 non-null    float64\n",
      " 24  Guests Included        12546 non-null  object \n",
      " 25  Min Nights             12350 non-null  float64\n",
      " 26  Reviews                12546 non-null  int64  \n",
      " 27  First Review           10411 non-null  object \n",
      " 28  Last Review            10410 non-null  object \n",
      " 29  Overall Rating         10209 non-null  float64\n",
      " 30  Accuracy Rating        10203 non-null  float64\n",
      " 31  Cleanliness Rating     10203 non-null  float64\n",
      " 32  Checkin Rating         10201 non-null  float64\n",
      " 33  Communication Rating   10203 non-null  float64\n",
      " 34  Location Rating        10202 non-null  float64\n",
      " 35  Value Rating           10201 non-null  float64\n",
      " 36  Instant Bookable       12546 non-null  object \n",
      " 37  Business Travel Ready  12546 non-null  object \n",
      " 38  year                   12530 non-null  float64\n",
      "dtypes: float64(18), int64(1), object(20)\n",
      "memory usage: 3.7+ MB\n"
     ]
    }
   ],
   "source": [
    "caa = CombinedAttributesAdder()\n",
    "X_tmp = X_train.copy()\n",
    "new_x = caa.fit_transform(X_train)\n",
    "# new_x.info()\n",
    "X_train.info()"
   ]
  },
  {
   "cell_type": "code",
   "execution_count": 105,
   "metadata": {},
   "outputs": [
    {
     "data": {
      "text/html": [
       "<div>\n",
       "<style scoped>\n",
       "    .dataframe tbody tr th:only-of-type {\n",
       "        vertical-align: middle;\n",
       "    }\n",
       "\n",
       "    .dataframe tbody tr th {\n",
       "        vertical-align: top;\n",
       "    }\n",
       "\n",
       "    .dataframe thead th {\n",
       "        text-align: right;\n",
       "    }\n",
       "</style>\n",
       "<table border=\"1\" class=\"dataframe\">\n",
       "  <thead>\n",
       "    <tr style=\"text-align: right;\">\n",
       "      <th></th>\n",
       "      <th>index</th>\n",
       "      <th>0</th>\n",
       "    </tr>\n",
       "  </thead>\n",
       "  <tbody>\n",
       "    <tr>\n",
       "      <th>0</th>\n",
       "      <td>Is Superhost</td>\n",
       "      <td>0.001435</td>\n",
       "    </tr>\n",
       "    <tr>\n",
       "      <th>1</th>\n",
       "      <td>Property Type</td>\n",
       "      <td>0.004862</td>\n",
       "    </tr>\n",
       "    <tr>\n",
       "      <th>2</th>\n",
       "      <td>Room Type</td>\n",
       "      <td>0.000000</td>\n",
       "    </tr>\n",
       "    <tr>\n",
       "      <th>3</th>\n",
       "      <td>Accomodates</td>\n",
       "      <td>0.001435</td>\n",
       "    </tr>\n",
       "    <tr>\n",
       "      <th>4</th>\n",
       "      <td>Bathrooms</td>\n",
       "      <td>0.001594</td>\n",
       "    </tr>\n",
       "    <tr>\n",
       "      <th>5</th>\n",
       "      <td>Bedrooms</td>\n",
       "      <td>0.000877</td>\n",
       "    </tr>\n",
       "    <tr>\n",
       "      <th>6</th>\n",
       "      <td>Beds</td>\n",
       "      <td>0.000956</td>\n",
       "    </tr>\n",
       "    <tr>\n",
       "      <th>7</th>\n",
       "      <td>Min Nights</td>\n",
       "      <td>0.015623</td>\n",
       "    </tr>\n",
       "    <tr>\n",
       "      <th>8</th>\n",
       "      <td>Instant Bookable</td>\n",
       "      <td>0.000000</td>\n",
       "    </tr>\n",
       "    <tr>\n",
       "      <th>9</th>\n",
       "      <td>year</td>\n",
       "      <td>0.001275</td>\n",
       "    </tr>\n",
       "  </tbody>\n",
       "</table>\n",
       "</div>"
      ],
      "text/plain": [
       "              index         0\n",
       "0      Is Superhost  0.001435\n",
       "1     Property Type  0.004862\n",
       "2         Room Type  0.000000\n",
       "3       Accomodates  0.001435\n",
       "4         Bathrooms  0.001594\n",
       "5          Bedrooms  0.000877\n",
       "6              Beds  0.000956\n",
       "7        Min Nights  0.015623\n",
       "8  Instant Bookable  0.000000\n",
       "9              year  0.001275"
      ]
     },
     "execution_count": 105,
     "metadata": {},
     "output_type": "execute_result"
    }
   ],
   "source": [
    "(new_x.isna().sum() / new_x.shape[0]).reset_index()"
   ]
  },
  {
   "cell_type": "code",
   "execution_count": 106,
   "metadata": {},
   "outputs": [],
   "source": [
    "# Numerical pipeline\n",
    "#\n",
    "# All (except the last) estimators must be transformers (i.e., they\n",
    "# must have a \".fit_transform()\" method).\n",
    "num_pipeline = Pipeline([\n",
    "    # replace NA with mean\n",
    "    ('imputer', SimpleImputer(strategy='mean')),\n",
    "    # standardize the variables: z = (x - mean) / SD\n",
    "    ('std_scaler', StandardScaler())])"
   ]
  },
  {
   "cell_type": "code",
   "execution_count": 107,
   "metadata": {},
   "outputs": [],
   "source": [
    "# Categorical pipeline\n",
    "#\n",
    "# All (except the last) estimators must be transformers (i.e., they\n",
    "# must have a \".fit_transform()\" method).\n",
    "cat_pipeline = Pipeline([\n",
    "    # replace NA with mode\n",
    "    ('imputer', SimpleImputer(strategy='most_frequent')),\n",
    "    # apply \"OneHotEncoder()\"\n",
    "    ('one_hot', OneHotEncoder(drop='if_binary'))])"
   ]
  },
  {
   "cell_type": "code",
   "execution_count": 108,
   "metadata": {},
   "outputs": [],
   "source": [
    "list_num_attribs = [\"Accomodates\", \"Bathrooms\", \"Bedrooms\", \"Beds\",\n",
    "                    \"Min Nights\", \"year\"]\n",
    "list_cat_attribs = [\"Is Superhost\", \"Property Type\", \"Room Type\", \"Instant Bookable\"]"
   ]
  },
  {
   "cell_type": "code",
   "execution_count": 109,
   "metadata": {},
   "outputs": [],
   "source": [
    "# ColumnTransformer requires tuples with:\n",
    "# - a name\n",
    "# - a transformer\n",
    "# - a list of names (or indices) of columns to which the transformer is applied\n",
    "\n",
    "cols_transformer = ColumnTransformer([\n",
    "    # apply \"num_pipeline\" to numerical columns\n",
    "    ('num', num_pipeline, list_num_attribs),\n",
    "    # apply \"cat_pipeline\" to categorical columns\n",
    "    ('cat', cat_pipeline, list_cat_attribs)])"
   ]
  },
  {
   "cell_type": "code",
   "execution_count": 110,
   "metadata": {},
   "outputs": [],
   "source": [
    "full_pipeline = Pipeline([\n",
    "    # transform/add columns\n",
    "    ('attribs_adder', CombinedAttributesAdder()),\n",
    "    # Transform numerical and categorical attributes\n",
    "    (\"cols_transformer\", cols_transformer)])"
   ]
  },
  {
   "cell_type": "code",
   "execution_count": 111,
   "metadata": {},
   "outputs": [
    {
     "data": {
      "text/plain": [
       "(12546, 26)"
      ]
     },
     "execution_count": 111,
     "metadata": {},
     "output_type": "execute_result"
    }
   ],
   "source": [
    "full_pipeline_tmp = Pipeline([\n",
    "    # transform/add columns\n",
    "    ('attribs_adder', CombinedAttributesAdder()),\n",
    "    # Transform numerical and categorical attributes\n",
    "    (\"cols_transformer\", cols_transformer)])\n",
    "\n",
    "X_tmp = X_train.copy()\n",
    "# new_x = full_pipeline_tmp.fit(X_tmp)\n",
    "new_x = full_pipeline_tmp.fit_transform(X_tmp)\n",
    "new_x.shape"
   ]
  },
  {
   "cell_type": "code",
   "execution_count": 112,
   "metadata": {},
   "outputs": [
    {
     "data": {
      "text/plain": [
       "Index(['Listing ID', 'Listing Name', 'Host ID', 'Host Name', 'Host Since',\n",
       "       'Host Response Time', 'Host Response Rate', 'Is Superhost',\n",
       "       'neighbourhood', 'Neighborhood Group', 'City', 'Postal Code',\n",
       "       'Country Code', 'Country', 'Latitude', 'Longitude', 'Is Exact Location',\n",
       "       'Property Type', 'Room Type', 'Accomodates', 'Bathrooms', 'Bedrooms',\n",
       "       'Beds', 'Square Feet', 'Guests Included', 'Min Nights', 'Reviews',\n",
       "       'First Review', 'Last Review', 'Overall Rating', 'Accuracy Rating',\n",
       "       'Cleanliness Rating', 'Checkin Rating', 'Communication Rating',\n",
       "       'Location Rating', 'Value Rating', 'Instant Bookable',\n",
       "       'Business Travel Ready', 'year'],\n",
       "      dtype='object')"
      ]
     },
     "execution_count": 112,
     "metadata": {},
     "output_type": "execute_result"
    }
   ],
   "source": [
    "X_train.columns"
   ]
  },
  {
   "cell_type": "markdown",
   "metadata": {},
   "source": [
    "# Random Forest"
   ]
  },
  {
   "cell_type": "code",
   "execution_count": 113,
   "metadata": {},
   "outputs": [],
   "source": [
    "rf = Pipeline([\n",
    "    # Pre-processing pipeline\n",
    "    (\"preparation\", full_pipeline),\n",
    "    # Random forest\n",
    "    # n_estimators=100, max_depth=None, min_samples_leaf=1\n",
    "    (\"rf\", RandomForestRegressor(max_depth= 20, min_samples_leaf=30, random_state=123))])"
   ]
  },
  {
   "cell_type": "code",
   "execution_count": 114,
   "metadata": {},
   "outputs": [
    {
     "data": {
      "text/html": [
       "<style>#sk-container-id-3 {color: black;}#sk-container-id-3 pre{padding: 0;}#sk-container-id-3 div.sk-toggleable {background-color: white;}#sk-container-id-3 label.sk-toggleable__label {cursor: pointer;display: block;width: 100%;margin-bottom: 0;padding: 0.3em;box-sizing: border-box;text-align: center;}#sk-container-id-3 label.sk-toggleable__label-arrow:before {content: \"▸\";float: left;margin-right: 0.25em;color: #696969;}#sk-container-id-3 label.sk-toggleable__label-arrow:hover:before {color: black;}#sk-container-id-3 div.sk-estimator:hover label.sk-toggleable__label-arrow:before {color: black;}#sk-container-id-3 div.sk-toggleable__content {max-height: 0;max-width: 0;overflow: hidden;text-align: left;background-color: #f0f8ff;}#sk-container-id-3 div.sk-toggleable__content pre {margin: 0.2em;color: black;border-radius: 0.25em;background-color: #f0f8ff;}#sk-container-id-3 input.sk-toggleable__control:checked~div.sk-toggleable__content {max-height: 200px;max-width: 100%;overflow: auto;}#sk-container-id-3 input.sk-toggleable__control:checked~label.sk-toggleable__label-arrow:before {content: \"▾\";}#sk-container-id-3 div.sk-estimator input.sk-toggleable__control:checked~label.sk-toggleable__label {background-color: #d4ebff;}#sk-container-id-3 div.sk-label input.sk-toggleable__control:checked~label.sk-toggleable__label {background-color: #d4ebff;}#sk-container-id-3 input.sk-hidden--visually {border: 0;clip: rect(1px 1px 1px 1px);clip: rect(1px, 1px, 1px, 1px);height: 1px;margin: -1px;overflow: hidden;padding: 0;position: absolute;width: 1px;}#sk-container-id-3 div.sk-estimator {font-family: monospace;background-color: #f0f8ff;border: 1px dotted black;border-radius: 0.25em;box-sizing: border-box;margin-bottom: 0.5em;}#sk-container-id-3 div.sk-estimator:hover {background-color: #d4ebff;}#sk-container-id-3 div.sk-parallel-item::after {content: \"\";width: 100%;border-bottom: 1px solid gray;flex-grow: 1;}#sk-container-id-3 div.sk-label:hover label.sk-toggleable__label {background-color: #d4ebff;}#sk-container-id-3 div.sk-serial::before {content: \"\";position: absolute;border-left: 1px solid gray;box-sizing: border-box;top: 0;bottom: 0;left: 50%;z-index: 0;}#sk-container-id-3 div.sk-serial {display: flex;flex-direction: column;align-items: center;background-color: white;padding-right: 0.2em;padding-left: 0.2em;position: relative;}#sk-container-id-3 div.sk-item {position: relative;z-index: 1;}#sk-container-id-3 div.sk-parallel {display: flex;align-items: stretch;justify-content: center;background-color: white;position: relative;}#sk-container-id-3 div.sk-item::before, #sk-container-id-3 div.sk-parallel-item::before {content: \"\";position: absolute;border-left: 1px solid gray;box-sizing: border-box;top: 0;bottom: 0;left: 50%;z-index: -1;}#sk-container-id-3 div.sk-parallel-item {display: flex;flex-direction: column;z-index: 1;position: relative;background-color: white;}#sk-container-id-3 div.sk-parallel-item:first-child::after {align-self: flex-end;width: 50%;}#sk-container-id-3 div.sk-parallel-item:last-child::after {align-self: flex-start;width: 50%;}#sk-container-id-3 div.sk-parallel-item:only-child::after {width: 0;}#sk-container-id-3 div.sk-dashed-wrapped {border: 1px dashed gray;margin: 0 0.4em 0.5em 0.4em;box-sizing: border-box;padding-bottom: 0.4em;background-color: white;}#sk-container-id-3 div.sk-label label {font-family: monospace;font-weight: bold;display: inline-block;line-height: 1.2em;}#sk-container-id-3 div.sk-label-container {text-align: center;}#sk-container-id-3 div.sk-container {/* jupyter's `normalize.less` sets `[hidden] { display: none; }` but bootstrap.min.css set `[hidden] { display: none !important; }` so we also need the `!important` here to be able to override the default hidden behavior on the sphinx rendered scikit-learn.org. See: https://github.com/scikit-learn/scikit-learn/issues/21755 */display: inline-block !important;position: relative;}#sk-container-id-3 div.sk-text-repr-fallback {display: none;}</style><div id=\"sk-container-id-3\" class=\"sk-top-container\"><div class=\"sk-text-repr-fallback\"><pre>Pipeline(steps=[(&#x27;preparation&#x27;,\n",
       "                 Pipeline(steps=[(&#x27;attribs_adder&#x27;, CombinedAttributesAdder()),\n",
       "                                 (&#x27;cols_transformer&#x27;,\n",
       "                                  ColumnTransformer(transformers=[(&#x27;num&#x27;,\n",
       "                                                                   Pipeline(steps=[(&#x27;imputer&#x27;,\n",
       "                                                                                    SimpleImputer()),\n",
       "                                                                                   (&#x27;std_scaler&#x27;,\n",
       "                                                                                    StandardScaler())]),\n",
       "                                                                   [&#x27;Accomodates&#x27;,\n",
       "                                                                    &#x27;Bathrooms&#x27;,\n",
       "                                                                    &#x27;Bedrooms&#x27;,\n",
       "                                                                    &#x27;Beds&#x27;,\n",
       "                                                                    &#x27;Min &#x27;\n",
       "                                                                    &#x27;Nights&#x27;,\n",
       "                                                                    &#x27;year&#x27;]),\n",
       "                                                                  (&#x27;cat&#x27;,\n",
       "                                                                   Pipeline(steps=[(&#x27;imputer&#x27;,\n",
       "                                                                                    SimpleImputer(strategy=&#x27;most_frequent&#x27;)),\n",
       "                                                                                   (&#x27;one_hot&#x27;,\n",
       "                                                                                    OneHotEncoder(drop=&#x27;if_binary&#x27;))]),\n",
       "                                                                   [&#x27;Is &#x27;\n",
       "                                                                    &#x27;Superhost&#x27;,\n",
       "                                                                    &#x27;Property &#x27;\n",
       "                                                                    &#x27;Type&#x27;,\n",
       "                                                                    &#x27;Room Type&#x27;,\n",
       "                                                                    &#x27;Instant &#x27;\n",
       "                                                                    &#x27;Bookable&#x27;])]))])),\n",
       "                (&#x27;rf&#x27;,\n",
       "                 RandomForestRegressor(max_depth=20, min_samples_leaf=30,\n",
       "                                       random_state=123))])</pre><b>In a Jupyter environment, please rerun this cell to show the HTML representation or trust the notebook. <br />On GitHub, the HTML representation is unable to render, please try loading this page with nbviewer.org.</b></div><div class=\"sk-container\" hidden><div class=\"sk-item sk-dashed-wrapped\"><div class=\"sk-label-container\"><div class=\"sk-label sk-toggleable\"><input class=\"sk-toggleable__control sk-hidden--visually\" id=\"sk-estimator-id-23\" type=\"checkbox\" ><label for=\"sk-estimator-id-23\" class=\"sk-toggleable__label sk-toggleable__label-arrow\">Pipeline</label><div class=\"sk-toggleable__content\"><pre>Pipeline(steps=[(&#x27;preparation&#x27;,\n",
       "                 Pipeline(steps=[(&#x27;attribs_adder&#x27;, CombinedAttributesAdder()),\n",
       "                                 (&#x27;cols_transformer&#x27;,\n",
       "                                  ColumnTransformer(transformers=[(&#x27;num&#x27;,\n",
       "                                                                   Pipeline(steps=[(&#x27;imputer&#x27;,\n",
       "                                                                                    SimpleImputer()),\n",
       "                                                                                   (&#x27;std_scaler&#x27;,\n",
       "                                                                                    StandardScaler())]),\n",
       "                                                                   [&#x27;Accomodates&#x27;,\n",
       "                                                                    &#x27;Bathrooms&#x27;,\n",
       "                                                                    &#x27;Bedrooms&#x27;,\n",
       "                                                                    &#x27;Beds&#x27;,\n",
       "                                                                    &#x27;Min &#x27;\n",
       "                                                                    &#x27;Nights&#x27;,\n",
       "                                                                    &#x27;year&#x27;]),\n",
       "                                                                  (&#x27;cat&#x27;,\n",
       "                                                                   Pipeline(steps=[(&#x27;imputer&#x27;,\n",
       "                                                                                    SimpleImputer(strategy=&#x27;most_frequent&#x27;)),\n",
       "                                                                                   (&#x27;one_hot&#x27;,\n",
       "                                                                                    OneHotEncoder(drop=&#x27;if_binary&#x27;))]),\n",
       "                                                                   [&#x27;Is &#x27;\n",
       "                                                                    &#x27;Superhost&#x27;,\n",
       "                                                                    &#x27;Property &#x27;\n",
       "                                                                    &#x27;Type&#x27;,\n",
       "                                                                    &#x27;Room Type&#x27;,\n",
       "                                                                    &#x27;Instant &#x27;\n",
       "                                                                    &#x27;Bookable&#x27;])]))])),\n",
       "                (&#x27;rf&#x27;,\n",
       "                 RandomForestRegressor(max_depth=20, min_samples_leaf=30,\n",
       "                                       random_state=123))])</pre></div></div></div><div class=\"sk-serial\"><div class=\"sk-item\"><div class=\"sk-label-container\"><div class=\"sk-label sk-toggleable\"><input class=\"sk-toggleable__control sk-hidden--visually\" id=\"sk-estimator-id-24\" type=\"checkbox\" ><label for=\"sk-estimator-id-24\" class=\"sk-toggleable__label sk-toggleable__label-arrow\">preparation: Pipeline</label><div class=\"sk-toggleable__content\"><pre>Pipeline(steps=[(&#x27;attribs_adder&#x27;, CombinedAttributesAdder()),\n",
       "                (&#x27;cols_transformer&#x27;,\n",
       "                 ColumnTransformer(transformers=[(&#x27;num&#x27;,\n",
       "                                                  Pipeline(steps=[(&#x27;imputer&#x27;,\n",
       "                                                                   SimpleImputer()),\n",
       "                                                                  (&#x27;std_scaler&#x27;,\n",
       "                                                                   StandardScaler())]),\n",
       "                                                  [&#x27;Accomodates&#x27;, &#x27;Bathrooms&#x27;,\n",
       "                                                   &#x27;Bedrooms&#x27;, &#x27;Beds&#x27;,\n",
       "                                                   &#x27;Min Nights&#x27;, &#x27;year&#x27;]),\n",
       "                                                 (&#x27;cat&#x27;,\n",
       "                                                  Pipeline(steps=[(&#x27;imputer&#x27;,\n",
       "                                                                   SimpleImputer(strategy=&#x27;most_frequent&#x27;)),\n",
       "                                                                  (&#x27;one_hot&#x27;,\n",
       "                                                                   OneHotEncoder(drop=&#x27;if_binary&#x27;))]),\n",
       "                                                  [&#x27;Is Superhost&#x27;,\n",
       "                                                   &#x27;Property Type&#x27;, &#x27;Room Type&#x27;,\n",
       "                                                   &#x27;Instant Bookable&#x27;])]))])</pre></div></div></div><div class=\"sk-serial\"><div class=\"sk-item\"><div class=\"sk-estimator sk-toggleable\"><input class=\"sk-toggleable__control sk-hidden--visually\" id=\"sk-estimator-id-25\" type=\"checkbox\" ><label for=\"sk-estimator-id-25\" class=\"sk-toggleable__label sk-toggleable__label-arrow\">CombinedAttributesAdder</label><div class=\"sk-toggleable__content\"><pre>CombinedAttributesAdder()</pre></div></div></div><div class=\"sk-item sk-dashed-wrapped\"><div class=\"sk-label-container\"><div class=\"sk-label sk-toggleable\"><input class=\"sk-toggleable__control sk-hidden--visually\" id=\"sk-estimator-id-26\" type=\"checkbox\" ><label for=\"sk-estimator-id-26\" class=\"sk-toggleable__label sk-toggleable__label-arrow\">cols_transformer: ColumnTransformer</label><div class=\"sk-toggleable__content\"><pre>ColumnTransformer(transformers=[(&#x27;num&#x27;,\n",
       "                                 Pipeline(steps=[(&#x27;imputer&#x27;, SimpleImputer()),\n",
       "                                                 (&#x27;std_scaler&#x27;,\n",
       "                                                  StandardScaler())]),\n",
       "                                 [&#x27;Accomodates&#x27;, &#x27;Bathrooms&#x27;, &#x27;Bedrooms&#x27;,\n",
       "                                  &#x27;Beds&#x27;, &#x27;Min Nights&#x27;, &#x27;year&#x27;]),\n",
       "                                (&#x27;cat&#x27;,\n",
       "                                 Pipeline(steps=[(&#x27;imputer&#x27;,\n",
       "                                                  SimpleImputer(strategy=&#x27;most_frequent&#x27;)),\n",
       "                                                 (&#x27;one_hot&#x27;,\n",
       "                                                  OneHotEncoder(drop=&#x27;if_binary&#x27;))]),\n",
       "                                 [&#x27;Is Superhost&#x27;, &#x27;Property Type&#x27;, &#x27;Room Type&#x27;,\n",
       "                                  &#x27;Instant Bookable&#x27;])])</pre></div></div></div><div class=\"sk-parallel\"><div class=\"sk-parallel-item\"><div class=\"sk-item\"><div class=\"sk-label-container\"><div class=\"sk-label sk-toggleable\"><input class=\"sk-toggleable__control sk-hidden--visually\" id=\"sk-estimator-id-27\" type=\"checkbox\" ><label for=\"sk-estimator-id-27\" class=\"sk-toggleable__label sk-toggleable__label-arrow\">num</label><div class=\"sk-toggleable__content\"><pre>[&#x27;Accomodates&#x27;, &#x27;Bathrooms&#x27;, &#x27;Bedrooms&#x27;, &#x27;Beds&#x27;, &#x27;Min Nights&#x27;, &#x27;year&#x27;]</pre></div></div></div><div class=\"sk-serial\"><div class=\"sk-item\"><div class=\"sk-serial\"><div class=\"sk-item\"><div class=\"sk-estimator sk-toggleable\"><input class=\"sk-toggleable__control sk-hidden--visually\" id=\"sk-estimator-id-28\" type=\"checkbox\" ><label for=\"sk-estimator-id-28\" class=\"sk-toggleable__label sk-toggleable__label-arrow\">SimpleImputer</label><div class=\"sk-toggleable__content\"><pre>SimpleImputer()</pre></div></div></div><div class=\"sk-item\"><div class=\"sk-estimator sk-toggleable\"><input class=\"sk-toggleable__control sk-hidden--visually\" id=\"sk-estimator-id-29\" type=\"checkbox\" ><label for=\"sk-estimator-id-29\" class=\"sk-toggleable__label sk-toggleable__label-arrow\">StandardScaler</label><div class=\"sk-toggleable__content\"><pre>StandardScaler()</pre></div></div></div></div></div></div></div></div><div class=\"sk-parallel-item\"><div class=\"sk-item\"><div class=\"sk-label-container\"><div class=\"sk-label sk-toggleable\"><input class=\"sk-toggleable__control sk-hidden--visually\" id=\"sk-estimator-id-30\" type=\"checkbox\" ><label for=\"sk-estimator-id-30\" class=\"sk-toggleable__label sk-toggleable__label-arrow\">cat</label><div class=\"sk-toggleable__content\"><pre>[&#x27;Is Superhost&#x27;, &#x27;Property Type&#x27;, &#x27;Room Type&#x27;, &#x27;Instant Bookable&#x27;]</pre></div></div></div><div class=\"sk-serial\"><div class=\"sk-item\"><div class=\"sk-serial\"><div class=\"sk-item\"><div class=\"sk-estimator sk-toggleable\"><input class=\"sk-toggleable__control sk-hidden--visually\" id=\"sk-estimator-id-31\" type=\"checkbox\" ><label for=\"sk-estimator-id-31\" class=\"sk-toggleable__label sk-toggleable__label-arrow\">SimpleImputer</label><div class=\"sk-toggleable__content\"><pre>SimpleImputer(strategy=&#x27;most_frequent&#x27;)</pre></div></div></div><div class=\"sk-item\"><div class=\"sk-estimator sk-toggleable\"><input class=\"sk-toggleable__control sk-hidden--visually\" id=\"sk-estimator-id-32\" type=\"checkbox\" ><label for=\"sk-estimator-id-32\" class=\"sk-toggleable__label sk-toggleable__label-arrow\">OneHotEncoder</label><div class=\"sk-toggleable__content\"><pre>OneHotEncoder(drop=&#x27;if_binary&#x27;)</pre></div></div></div></div></div></div></div></div></div></div></div></div><div class=\"sk-item\"><div class=\"sk-estimator sk-toggleable\"><input class=\"sk-toggleable__control sk-hidden--visually\" id=\"sk-estimator-id-33\" type=\"checkbox\" ><label for=\"sk-estimator-id-33\" class=\"sk-toggleable__label sk-toggleable__label-arrow\">RandomForestRegressor</label><div class=\"sk-toggleable__content\"><pre>RandomForestRegressor(max_depth=20, min_samples_leaf=30, random_state=123)</pre></div></div></div></div></div></div></div>"
      ],
      "text/plain": [
       "Pipeline(steps=[('preparation',\n",
       "                 Pipeline(steps=[('attribs_adder', CombinedAttributesAdder()),\n",
       "                                 ('cols_transformer',\n",
       "                                  ColumnTransformer(transformers=[('num',\n",
       "                                                                   Pipeline(steps=[('imputer',\n",
       "                                                                                    SimpleImputer()),\n",
       "                                                                                   ('std_scaler',\n",
       "                                                                                    StandardScaler())]),\n",
       "                                                                   ['Accomodates',\n",
       "                                                                    'Bathrooms',\n",
       "                                                                    'Bedrooms',\n",
       "                                                                    'Beds',\n",
       "                                                                    'Min '\n",
       "                                                                    'Nights',\n",
       "                                                                    'year']),\n",
       "                                                                  ('cat',\n",
       "                                                                   Pipeline(steps=[('imputer',\n",
       "                                                                                    SimpleImputer(strategy='most_frequent')),\n",
       "                                                                                   ('one_hot',\n",
       "                                                                                    OneHotEncoder(drop='if_binary'))]),\n",
       "                                                                   ['Is '\n",
       "                                                                    'Superhost',\n",
       "                                                                    'Property '\n",
       "                                                                    'Type',\n",
       "                                                                    'Room Type',\n",
       "                                                                    'Instant '\n",
       "                                                                    'Bookable'])]))])),\n",
       "                ('rf',\n",
       "                 RandomForestRegressor(max_depth=20, min_samples_leaf=30,\n",
       "                                       random_state=123))])"
      ]
     },
     "execution_count": 114,
     "metadata": {},
     "output_type": "execute_result"
    }
   ],
   "source": [
    "rf.fit(X_train, y_train)"
   ]
  },
  {
   "cell_type": "code",
   "execution_count": 115,
   "metadata": {},
   "outputs": [
    {
     "data": {
      "text/plain": [
       "Index(['Listing ID', 'Listing Name', 'Host ID', 'Host Name', 'Host Since',\n",
       "       'Host Response Time', 'Host Response Rate', 'Is Superhost',\n",
       "       'neighbourhood', 'Neighborhood Group', 'City', 'Postal Code',\n",
       "       'Country Code', 'Country', 'Latitude', 'Longitude', 'Is Exact Location',\n",
       "       'Property Type', 'Room Type', 'Accomodates', 'Bathrooms', 'Bedrooms',\n",
       "       'Beds', 'Square Feet', 'Guests Included', 'Min Nights', 'Reviews',\n",
       "       'First Review', 'Last Review', 'Overall Rating', 'Accuracy Rating',\n",
       "       'Cleanliness Rating', 'Checkin Rating', 'Communication Rating',\n",
       "       'Location Rating', 'Value Rating', 'Instant Bookable',\n",
       "       'Business Travel Ready', 'year'],\n",
       "      dtype='object')"
      ]
     },
     "execution_count": 115,
     "metadata": {},
     "output_type": "execute_result"
    }
   ],
   "source": [
    "X_train.columns"
   ]
  },
  {
   "cell_type": "code",
   "execution_count": 116,
   "metadata": {},
   "outputs": [
    {
     "data": {
      "text/plain": [
       "0.39761279487367285"
      ]
     },
     "execution_count": 116,
     "metadata": {},
     "output_type": "execute_result"
    }
   ],
   "source": [
    "rf.score(X_train, y_train)"
   ]
  },
  {
   "cell_type": "code",
   "execution_count": 117,
   "metadata": {},
   "outputs": [],
   "source": [
    "y_pred_rf = rf.predict(X_train)"
   ]
  },
  {
   "cell_type": "code",
   "execution_count": 118,
   "metadata": {},
   "outputs": [
    {
     "data": {
      "text/plain": [
       "37.967344834962724"
      ]
     },
     "execution_count": 118,
     "metadata": {},
     "output_type": "execute_result"
    }
   ],
   "source": [
    "mean_squared_error(y_train, y_pred_rf, squared=False)"
   ]
  },
  {
   "cell_type": "code",
   "execution_count": 119,
   "metadata": {},
   "outputs": [
    {
     "data": {
      "text/plain": [
       "37.967344834962724"
      ]
     },
     "execution_count": 119,
     "metadata": {},
     "output_type": "execute_result"
    }
   ],
   "source": [
    "np.sqrt(np.sum((y_train -y_pred_rf)**2) / len(y_train))"
   ]
  },
  {
   "cell_type": "markdown",
   "metadata": {},
   "source": [
    "# Test set"
   ]
  },
  {
   "cell_type": "code",
   "execution_count": 132,
   "metadata": {},
   "outputs": [
    {
     "name": "stdout",
     "output_type": "stream",
     "text": [
      "Shape: (99476, 18)\n",
      "shape X_train: (99476, 17)\n",
      "shape y_train: (99476,)\n"
     ]
    }
   ],
   "source": [
    "# Load dataset\n",
    "dataset_path = Path().absolute() / \"data\"\n",
    "filename = \"X_y_test.csv\"\n",
    "X_y_test = load_ds(dataset_path, filename)\n",
    "\n",
    "print(f\"Shape: {X_y_test.shape}\")\n",
    "\n",
    "# X_test = X_y_test.drop(\"Sales\") # include \"Sales\", CombinedAttributesAdder() drops it\n",
    "X_test = X_y_test.drop([\"Sales\"], axis=1)\n",
    "y_test = X_y_test.loc[:, \"Sales\"].copy()\n",
    "\n",
    "print(f\"shape X_train: {X_test.shape}\")\n",
    "print(f\"shape y_train: {y_test.shape}\")"
   ]
  },
  {
   "cell_type": "code",
   "execution_count": 133,
   "metadata": {},
   "outputs": [],
   "source": [
    "def metric(preds, actuals):\n",
    "    assert preds.shape == actuals.shape\n",
    "    return 100 * np.linalg.norm((actuals - preds) / actuals) / np.sqrt(preds.shape[0])"
   ]
  },
  {
   "cell_type": "code",
   "execution_count": 134,
   "metadata": {},
   "outputs": [],
   "source": [
    "y_pred = rf.predict(X_test)"
   ]
  },
  {
   "cell_type": "code",
   "execution_count": 135,
   "metadata": {},
   "outputs": [
    {
     "data": {
      "text/plain": [
       "17.23081421221812"
      ]
     },
     "execution_count": 135,
     "metadata": {},
     "output_type": "execute_result"
    }
   ],
   "source": [
    "metric(y_pred, y_test)"
   ]
  },
  {
   "cell_type": "code",
   "execution_count": 136,
   "metadata": {},
   "outputs": [
    {
     "data": {
      "text/plain": [
       "1076.2233186348526"
      ]
     },
     "execution_count": 136,
     "metadata": {},
     "output_type": "execute_result"
    }
   ],
   "source": [
    "mean_squared_error(y_test, y_pred, squared=False)"
   ]
  },
  {
   "cell_type": "code",
   "execution_count": 137,
   "metadata": {},
   "outputs": [
    {
     "data": {
      "text/plain": [
       "0.0296900958415978"
      ]
     },
     "execution_count": 137,
     "metadata": {},
     "output_type": "execute_result"
    }
   ],
   "source": [
    "RMSPE(y_test, y_pred)"
   ]
  },
  {
   "cell_type": "markdown",
   "metadata": {},
   "source": [
    "# Save model"
   ]
  },
  {
   "cell_type": "code",
   "execution_count": 138,
   "metadata": {},
   "outputs": [],
   "source": [
    "# open a file, where you ant to store the data\n",
    "file = open('models/random_forest_final.pkl', 'wb')\n",
    "\n",
    "# dump information to that file\n",
    "pickle.dump(rf, file)\n",
    "\n",
    "# close the file\n",
    "file.close()"
   ]
  }
 ],
 "metadata": {
  "kernelspec": {
   "display_name": "Python 3",
   "language": "python",
   "name": "python3"
  },
  "language_info": {
   "codemirror_mode": {
    "name": "ipython",
    "version": 3
   },
   "file_extension": ".py",
   "mimetype": "text/x-python",
   "name": "python",
   "nbconvert_exporter": "python",
   "pygments_lexer": "ipython3",
   "version": "3.10.6"
  }
 },
 "nbformat": 4,
 "nbformat_minor": 4
}
