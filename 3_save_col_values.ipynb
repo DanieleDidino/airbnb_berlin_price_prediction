{
 "cells": [
  {
   "cell_type": "code",
   "execution_count": 1,
   "metadata": {},
   "outputs": [],
   "source": [
    "from pathlib import Path\n",
    "import numpy as np\n",
    "import pandas as pd\n",
    "import pickle"
   ]
  },
  {
   "cell_type": "code",
   "execution_count": 2,
   "metadata": {},
   "outputs": [
    {
     "name": "stdout",
     "output_type": "stream",
     "text": [
      "Shape: (11243, 39)\n"
     ]
    }
   ],
   "source": [
    "# Load the dataset\n",
    "def load_ds(path: Path, filename: str) -> pd.DataFrame:\n",
    "    \"\"\"Read the dataset csv file as a pandas dataframe.\"\"\"\n",
    "    return pd.read_csv(path / filename)\n",
    "\n",
    "# Load dataset\n",
    "dataset_path = Path().absolute() / \"data\"\n",
    "filename = \"X_y_train.csv\"\n",
    "X_y_train = load_ds(dataset_path, filename)\n",
    "\n",
    "print(f\"Shape: {X_y_train.shape}\")"
   ]
  },
  {
   "cell_type": "markdown",
   "metadata": {},
   "source": [
    "Create an empty dictionary to store the values"
   ]
  },
  {
   "cell_type": "code",
   "execution_count": 3,
   "metadata": {},
   "outputs": [],
   "source": [
    "col_values = dict()"
   ]
  },
  {
   "cell_type": "markdown",
   "metadata": {},
   "source": [
    "# Year"
   ]
  },
  {
   "cell_type": "code",
   "execution_count": 4,
   "metadata": {},
   "outputs": [
    {
     "name": "stdout",
     "output_type": "stream",
     "text": [
      "min year: 2009\n",
      "max year: 2019\n",
      "year mode: 2015\n"
     ]
    }
   ],
   "source": [
    "date = pd.to_datetime(X_y_train[\"Host Since\"], format=\"%Y-%m-%d\")\n",
    "print(f\"min year: {int(date.dt.year.min())}\")\n",
    "print(f\"max year: {int(date.dt.year.max())}\")\n",
    "print(f\"year mode: {int(date.dt.year.mode()[0])}\")"
   ]
  },
  {
   "cell_type": "code",
   "execution_count": 5,
   "metadata": {},
   "outputs": [],
   "source": [
    "col_values[\"year\"] = {\n",
    "    \"min\": int(date.dt.year.min()), \n",
    "    \"max\": int(date.dt.year.max()),\n",
    "    \"mode\": int(date.dt.year.mode()[0])\n",
    "}"
   ]
  },
  {
   "cell_type": "code",
   "execution_count": 6,
   "metadata": {},
   "outputs": [
    {
     "data": {
      "text/plain": [
       "{'year': {'min': 2009, 'max': 2019, 'mode': 2015}}"
      ]
     },
     "execution_count": 6,
     "metadata": {},
     "output_type": "execute_result"
    }
   ],
   "source": [
    "col_values"
   ]
  },
  {
   "cell_type": "code",
   "execution_count": 7,
   "metadata": {},
   "outputs": [
    {
     "data": {
      "text/plain": [
       "{'min': 2009, 'max': 2019, 'mode': 2015}"
      ]
     },
     "execution_count": 7,
     "metadata": {},
     "output_type": "execute_result"
    }
   ],
   "source": [
    "col_values[\"year\"]"
   ]
  },
  {
   "cell_type": "markdown",
   "metadata": {},
   "source": [
    "# Is Superhost"
   ]
  },
  {
   "cell_type": "code",
   "execution_count": 8,
   "metadata": {},
   "outputs": [
    {
     "data": {
      "text/plain": [
       "array(['f', 't', nan], dtype=object)"
      ]
     },
     "execution_count": 8,
     "metadata": {},
     "output_type": "execute_result"
    }
   ],
   "source": [
    "X_y_train[\"Is Superhost\"].unique()"
   ]
  },
  {
   "cell_type": "code",
   "execution_count": 9,
   "metadata": {},
   "outputs": [],
   "source": [
    "col_values[\"Is Superhost\"] = {\n",
    "    \"mode\": X_y_train[\"Is Superhost\"].mode()[0]\n",
    "}"
   ]
  },
  {
   "cell_type": "markdown",
   "metadata": {},
   "source": [
    "# Property Type"
   ]
  },
  {
   "cell_type": "code",
   "execution_count": 10,
   "metadata": {},
   "outputs": [
    {
     "data": {
      "text/plain": [
       "array(['Apartment', 'House', 'Serviced apartment', 'Other', 'Condominium',\n",
       "       '*', 'Townhouse', 'Bed and breakfast', 'Loft', 'Guest suite',\n",
       "       'Hostel', 'Guesthouse', 'Boutique hotel', 'Boat', 'Bungalow',\n",
       "       'Hotel'], dtype=object)"
      ]
     },
     "execution_count": 10,
     "metadata": {},
     "output_type": "execute_result"
    }
   ],
   "source": [
    "X_y_train[\"Property Type\"].unique()"
   ]
  },
  {
   "cell_type": "code",
   "execution_count": 11,
   "metadata": {},
   "outputs": [
    {
     "data": {
      "text/plain": [
       "['Apartment',\n",
       " 'House',\n",
       " 'Serviced apartment',\n",
       " 'Other',\n",
       " 'Condominium',\n",
       " 'Townhouse',\n",
       " 'Bed and breakfast',\n",
       " 'Loft',\n",
       " 'Guest suite',\n",
       " 'Hostel',\n",
       " 'Guesthouse',\n",
       " 'Boutique hotel',\n",
       " 'Boat',\n",
       " 'Bungalow',\n",
       " 'Hotel']"
      ]
     },
     "execution_count": 11,
     "metadata": {},
     "output_type": "execute_result"
    }
   ],
   "source": [
    "property_type = X_y_train[\"Property Type\"].copy()\n",
    "# property_type[property_type == \"*\"] = np.nan\n",
    "property_type[~property_type.isin([\"*\"])].unique().tolist()"
   ]
  },
  {
   "cell_type": "code",
   "execution_count": 12,
   "metadata": {},
   "outputs": [],
   "source": [
    "col_values[\"Property Type\"] = {\n",
    "    \"categories\": property_type[~property_type.isin([\"*\"])].unique().tolist(),\n",
    "    \"mode\": X_y_train[\"Property Type\"].mode()[0]\n",
    "}"
   ]
  },
  {
   "cell_type": "code",
   "execution_count": 13,
   "metadata": {},
   "outputs": [
    {
     "data": {
      "text/plain": [
       "{'categories': ['Apartment',\n",
       "  'House',\n",
       "  'Serviced apartment',\n",
       "  'Other',\n",
       "  'Condominium',\n",
       "  'Townhouse',\n",
       "  'Bed and breakfast',\n",
       "  'Loft',\n",
       "  'Guest suite',\n",
       "  'Hostel',\n",
       "  'Guesthouse',\n",
       "  'Boutique hotel',\n",
       "  'Boat',\n",
       "  'Bungalow',\n",
       "  'Hotel'],\n",
       " 'mode': 'Apartment'}"
      ]
     },
     "execution_count": 13,
     "metadata": {},
     "output_type": "execute_result"
    }
   ],
   "source": [
    "col_values[\"Property Type\"]"
   ]
  },
  {
   "cell_type": "markdown",
   "metadata": {},
   "source": [
    "# Room Type"
   ]
  },
  {
   "cell_type": "code",
   "execution_count": 14,
   "metadata": {},
   "outputs": [
    {
     "data": {
      "text/plain": [
       "array(['Private room', 'Entire home/apt', 'Shared room'], dtype=object)"
      ]
     },
     "execution_count": 14,
     "metadata": {},
     "output_type": "execute_result"
    }
   ],
   "source": [
    "X_y_train[\"Room Type\"].unique()"
   ]
  },
  {
   "cell_type": "code",
   "execution_count": 15,
   "metadata": {},
   "outputs": [],
   "source": [
    "col_values[\"Room Type\"] = {\n",
    "    \"categories\": X_y_train[\"Room Type\"].unique().tolist(),\n",
    "    \"mode\": X_y_train[\"Room Type\"].mode()[0]\n",
    "}"
   ]
  },
  {
   "cell_type": "code",
   "execution_count": 16,
   "metadata": {},
   "outputs": [
    {
     "data": {
      "text/plain": [
       "{'categories': ['Private room', 'Entire home/apt', 'Shared room'],\n",
       " 'mode': 'Entire home/apt'}"
      ]
     },
     "execution_count": 16,
     "metadata": {},
     "output_type": "execute_result"
    }
   ],
   "source": [
    "col_values[\"Room Type\"]"
   ]
  },
  {
   "cell_type": "markdown",
   "metadata": {},
   "source": [
    "# Accomodates"
   ]
  },
  {
   "cell_type": "code",
   "execution_count": 17,
   "metadata": {},
   "outputs": [
    {
     "data": {
      "text/plain": [
       "array(['1', '4', '2', '5', '3', '6', '10', '8', '9', '7', '12', '*'],\n",
       "      dtype=object)"
      ]
     },
     "execution_count": 17,
     "metadata": {},
     "output_type": "execute_result"
    }
   ],
   "source": [
    "X_y_train[\"Accomodates\"].unique()"
   ]
  },
  {
   "cell_type": "code",
   "execution_count": 18,
   "metadata": {},
   "outputs": [
    {
     "data": {
      "text/plain": [
       "[1, 4, 2, 5, 3, 6, 10, 8, 9, 7, 12]"
      ]
     },
     "execution_count": 18,
     "metadata": {},
     "output_type": "execute_result"
    }
   ],
   "source": [
    "accomodates = X_y_train[\"Accomodates\"].copy()\n",
    "accomodates = accomodates[~accomodates.isin([\"*\"])].unique().tolist()\n",
    "accomodates = [int(i) for i in accomodates]\n",
    "accomodates"
   ]
  },
  {
   "cell_type": "code",
   "execution_count": 19,
   "metadata": {},
   "outputs": [],
   "source": [
    "col_values[\"Accomodates\"] = {\n",
    "    \"min\": min(accomodates),\n",
    "    \"max\": max(accomodates),\n",
    "    \"mode\": int(X_y_train[\"Accomodates\"].mode()[0])\n",
    "}"
   ]
  },
  {
   "cell_type": "code",
   "execution_count": 20,
   "metadata": {},
   "outputs": [
    {
     "data": {
      "text/plain": [
       "{'min': 1, 'max': 12, 'mode': 2}"
      ]
     },
     "execution_count": 20,
     "metadata": {},
     "output_type": "execute_result"
    }
   ],
   "source": [
    "col_values[\"Accomodates\"]"
   ]
  },
  {
   "cell_type": "markdown",
   "metadata": {},
   "source": [
    "# Bathrooms"
   ]
  },
  {
   "cell_type": "code",
   "execution_count": 21,
   "metadata": {},
   "outputs": [
    {
     "data": {
      "text/plain": [
       "array(['1.0', '2.0', '1.5', '2.5', '3.0', '0.0', '0.5', '*', nan],\n",
       "      dtype=object)"
      ]
     },
     "execution_count": 21,
     "metadata": {},
     "output_type": "execute_result"
    }
   ],
   "source": [
    "X_y_train[\"Bathrooms\"].unique()"
   ]
  },
  {
   "cell_type": "code",
   "execution_count": 22,
   "metadata": {},
   "outputs": [
    {
     "data": {
      "text/plain": [
       "[1.0, 2.0, 1.5, 2.5, 3.0, 0.0, 0.5]"
      ]
     },
     "execution_count": 22,
     "metadata": {},
     "output_type": "execute_result"
    }
   ],
   "source": [
    "bathrooms = X_y_train[\"Bathrooms\"].copy()\n",
    "bathrooms = bathrooms[~bathrooms.isin([\"*\", np.nan])].unique().tolist()\n",
    "bathrooms = [float(i) for i in bathrooms]\n",
    "bathrooms"
   ]
  },
  {
   "cell_type": "code",
   "execution_count": 23,
   "metadata": {},
   "outputs": [],
   "source": [
    "col_values[\"Bathrooms\"] = {\n",
    "    \"min\": min(bathrooms),\n",
    "    \"max\": max(bathrooms),\n",
    "    \"mode\": float(X_y_train[\"Bathrooms\"].mode()[0])\n",
    "}"
   ]
  },
  {
   "cell_type": "code",
   "execution_count": 24,
   "metadata": {},
   "outputs": [
    {
     "data": {
      "text/plain": [
       "{'min': 0.0, 'max': 3.0, 'mode': 1.0}"
      ]
     },
     "execution_count": 24,
     "metadata": {},
     "output_type": "execute_result"
    }
   ],
   "source": [
    "col_values[\"Bathrooms\"]"
   ]
  },
  {
   "cell_type": "markdown",
   "metadata": {},
   "source": [
    "# Bedrooms"
   ]
  },
  {
   "cell_type": "code",
   "execution_count": 25,
   "metadata": {},
   "outputs": [
    {
     "data": {
      "text/plain": [
       "array(['1.0', '2.0', '0.0', '4.0', '3.0', '5.0', nan, '*'], dtype=object)"
      ]
     },
     "execution_count": 25,
     "metadata": {},
     "output_type": "execute_result"
    }
   ],
   "source": [
    "X_y_train[\"Bedrooms\"].unique()"
   ]
  },
  {
   "cell_type": "code",
   "execution_count": 26,
   "metadata": {},
   "outputs": [
    {
     "data": {
      "text/plain": [
       "[1.0, 2.0, 0.0, 4.0, 3.0, 5.0]"
      ]
     },
     "execution_count": 26,
     "metadata": {},
     "output_type": "execute_result"
    }
   ],
   "source": [
    "bedrooms = X_y_train[\"Bedrooms\"].copy()\n",
    "bedrooms = bedrooms[~bedrooms.isin([\"*\", np.nan])].unique().tolist()\n",
    "bedrooms = [float(i) for i in bedrooms]\n",
    "bedrooms"
   ]
  },
  {
   "cell_type": "code",
   "execution_count": 27,
   "metadata": {},
   "outputs": [],
   "source": [
    "col_values[\"Bedrooms\"] = {\n",
    "    \"min\": min(bedrooms),\n",
    "    \"max\": max(bedrooms),\n",
    "    \"mode\": float(X_y_train[\"Bedrooms\"].mode()[0])\n",
    "}"
   ]
  },
  {
   "cell_type": "code",
   "execution_count": 28,
   "metadata": {},
   "outputs": [
    {
     "data": {
      "text/plain": [
       "{'min': 0.0, 'max': 5.0, 'mode': 1.0}"
      ]
     },
     "execution_count": 28,
     "metadata": {},
     "output_type": "execute_result"
    }
   ],
   "source": [
    "col_values[\"Bedrooms\"]"
   ]
  },
  {
   "cell_type": "markdown",
   "metadata": {},
   "source": [
    "# Beds"
   ]
  },
  {
   "cell_type": "code",
   "execution_count": 29,
   "metadata": {},
   "outputs": [
    {
     "data": {
      "text/plain": [
       "array(['1.0', '2.0', '3.0', '7.0', '4.0', '6.0', '5.0', '*', '0.0', '8.0',\n",
       "       '10.0', nan, '9.0'], dtype=object)"
      ]
     },
     "execution_count": 29,
     "metadata": {},
     "output_type": "execute_result"
    }
   ],
   "source": [
    "X_y_train[\"Beds\"].unique()"
   ]
  },
  {
   "cell_type": "code",
   "execution_count": 30,
   "metadata": {},
   "outputs": [
    {
     "data": {
      "text/plain": [
       "[1.0, 2.0, 3.0, 7.0, 4.0, 6.0, 5.0, 0.0, 8.0, 10.0, 9.0]"
      ]
     },
     "execution_count": 30,
     "metadata": {},
     "output_type": "execute_result"
    }
   ],
   "source": [
    "bed = X_y_train[\"Beds\"].copy()\n",
    "bed = bed[~bed.isin([\"*\", np.nan])].unique().tolist()\n",
    "bed = [float(i) for i in bed]\n",
    "bed"
   ]
  },
  {
   "cell_type": "code",
   "execution_count": 31,
   "metadata": {},
   "outputs": [],
   "source": [
    "col_values[\"Beds\"] = {\n",
    "    \"min\": min(bed),\n",
    "    \"max\": max(bed),\n",
    "    \"mode\": float(X_y_train[\"Beds\"].mode()[0])\n",
    "}"
   ]
  },
  {
   "cell_type": "code",
   "execution_count": 32,
   "metadata": {},
   "outputs": [
    {
     "data": {
      "text/plain": [
       "{'min': 0.0, 'max': 10.0, 'mode': 1.0}"
      ]
     },
     "execution_count": 32,
     "metadata": {},
     "output_type": "execute_result"
    }
   ],
   "source": [
    "col_values[\"Beds\"]"
   ]
  },
  {
   "cell_type": "markdown",
   "metadata": {},
   "source": [
    "# Min Nights"
   ]
  },
  {
   "cell_type": "code",
   "execution_count": 33,
   "metadata": {},
   "outputs": [
    {
     "data": {
      "text/plain": [
       "array(['*', '3', '2', '6', '1', '60', '7', '5', '4', '28', '90', '14',\n",
       "       '15', '25', '21', '30', '61', '20', '9', '62', '8', '10', '13',\n",
       "       '12', '180'], dtype=object)"
      ]
     },
     "execution_count": 33,
     "metadata": {},
     "output_type": "execute_result"
    }
   ],
   "source": [
    "X_y_train[\"Min Nights\"].unique()"
   ]
  },
  {
   "cell_type": "code",
   "execution_count": 34,
   "metadata": {},
   "outputs": [
    {
     "data": {
      "text/plain": [
       "[3.0,\n",
       " 2.0,\n",
       " 6.0,\n",
       " 1.0,\n",
       " 60.0,\n",
       " 7.0,\n",
       " 5.0,\n",
       " 4.0,\n",
       " 28.0,\n",
       " 90.0,\n",
       " 14.0,\n",
       " 15.0,\n",
       " 25.0,\n",
       " 21.0,\n",
       " 30.0,\n",
       " 61.0,\n",
       " 20.0,\n",
       " 9.0,\n",
       " 62.0,\n",
       " 8.0,\n",
       " 10.0,\n",
       " 13.0,\n",
       " 12.0,\n",
       " 180.0]"
      ]
     },
     "execution_count": 34,
     "metadata": {},
     "output_type": "execute_result"
    }
   ],
   "source": [
    "min_nights = X_y_train[\"Min Nights\"].copy()\n",
    "min_nights = min_nights[~min_nights.isin([\"*\", np.nan])].unique().tolist()\n",
    "min_nights = [float(i) for i in min_nights]\n",
    "min_nights"
   ]
  },
  {
   "cell_type": "code",
   "execution_count": 35,
   "metadata": {},
   "outputs": [],
   "source": [
    "col_values[\"Min Nights\"] = {\n",
    "    \"min\": min(min_nights),\n",
    "    \"max\": max(min_nights),\n",
    "    \"mode\": float(X_y_train[\"Min Nights\"].mode()[0])\n",
    "}"
   ]
  },
  {
   "cell_type": "code",
   "execution_count": 36,
   "metadata": {},
   "outputs": [
    {
     "data": {
      "text/plain": [
       "{'min': 1.0, 'max': 180.0, 'mode': 2.0}"
      ]
     },
     "execution_count": 36,
     "metadata": {},
     "output_type": "execute_result"
    }
   ],
   "source": [
    "col_values[\"Min Nights\"]"
   ]
  },
  {
   "cell_type": "markdown",
   "metadata": {},
   "source": [
    "# Instant Bookable"
   ]
  },
  {
   "cell_type": "code",
   "execution_count": 37,
   "metadata": {},
   "outputs": [
    {
     "data": {
      "text/plain": [
       "array(['f', 't'], dtype=object)"
      ]
     },
     "execution_count": 37,
     "metadata": {},
     "output_type": "execute_result"
    }
   ],
   "source": [
    "X_y_train[\"Instant Bookable\"].unique()"
   ]
  },
  {
   "cell_type": "code",
   "execution_count": 38,
   "metadata": {},
   "outputs": [],
   "source": [
    "col_values[\"Instant Bookable\"] = {\n",
    "    \"mode\": X_y_train[\"Instant Bookable\"].mode()[0]\n",
    "}"
   ]
  },
  {
   "cell_type": "code",
   "execution_count": 39,
   "metadata": {},
   "outputs": [
    {
     "data": {
      "text/plain": [
       "{'year': {'min': 2009, 'max': 2019, 'mode': 2015},\n",
       " 'Is Superhost': {'mode': 'f'},\n",
       " 'Property Type': {'categories': ['Apartment',\n",
       "   'House',\n",
       "   'Serviced apartment',\n",
       "   'Other',\n",
       "   'Condominium',\n",
       "   'Townhouse',\n",
       "   'Bed and breakfast',\n",
       "   'Loft',\n",
       "   'Guest suite',\n",
       "   'Hostel',\n",
       "   'Guesthouse',\n",
       "   'Boutique hotel',\n",
       "   'Boat',\n",
       "   'Bungalow',\n",
       "   'Hotel'],\n",
       "  'mode': 'Apartment'},\n",
       " 'Room Type': {'categories': ['Private room',\n",
       "   'Entire home/apt',\n",
       "   'Shared room'],\n",
       "  'mode': 'Entire home/apt'},\n",
       " 'Accomodates': {'min': 1, 'max': 12, 'mode': 2},\n",
       " 'Bathrooms': {'min': 0.0, 'max': 3.0, 'mode': 1.0},\n",
       " 'Bedrooms': {'min': 0.0, 'max': 5.0, 'mode': 1.0},\n",
       " 'Beds': {'min': 0.0, 'max': 10.0, 'mode': 1.0},\n",
       " 'Min Nights': {'min': 1.0, 'max': 180.0, 'mode': 2.0},\n",
       " 'Instant Bookable': {'mode': 'f'}}"
      ]
     },
     "execution_count": 39,
     "metadata": {},
     "output_type": "execute_result"
    }
   ],
   "source": [
    "col_values"
   ]
  },
  {
   "cell_type": "markdown",
   "metadata": {},
   "source": [
    "# Save dictionary"
   ]
  },
  {
   "cell_type": "code",
   "execution_count": 40,
   "metadata": {},
   "outputs": [],
   "source": [
    "# open a file, where you ant to store the data\n",
    "file = open('models/col_values.pkl', 'wb')\n",
    "\n",
    "# dump information to that file\n",
    "pickle.dump(col_values, file)\n",
    "\n",
    "# close the file\n",
    "file.close()"
   ]
  }
 ],
 "metadata": {
  "kernelspec": {
   "display_name": "airbnb_berlin_price_prediction-GHtSLWcx",
   "language": "python",
   "name": "python3"
  },
  "language_info": {
   "codemirror_mode": {
    "name": "ipython",
    "version": 3
   },
   "file_extension": ".py",
   "mimetype": "text/x-python",
   "name": "python",
   "nbconvert_exporter": "python",
   "pygments_lexer": "ipython3",
   "version": "3.10.6"
  },
  "orig_nbformat": 4
 },
 "nbformat": 4,
 "nbformat_minor": 2
}
